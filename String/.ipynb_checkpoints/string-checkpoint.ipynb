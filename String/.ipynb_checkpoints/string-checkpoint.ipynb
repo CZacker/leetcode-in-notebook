{
 "cells": [
  {
   "cell_type": "markdown",
   "metadata": {},
   "source": [
    "# Algorithms Solution--Array"
   ]
  },
  {
   "cell_type": "markdown",
   "metadata": {},
   "source": [
    "## 137. Single Number II\n",
    "\n",
    "Given a ***non-empty*** array of integers, every element appears three times except for one, which appears exactly once. Find that single one.\n",
    "\n",
    "Note:\n",
    "\n",
    "Your algorithm should have a linear runtime complexity. Could you implement it without using extra memory?\n",
    "\n",
    "Example 1:\n",
    "\n",
    "```python\n",
    "Input: [2,2,3,2]\n",
    "Output: 3\n",
    "```\n",
    "\n",
    "Example 2:\n",
    "```python\n",
    "Input: [0,1,0,1,0,1,99]\n",
    "Output: 99\n",
    "```"
   ]
  },
  {
   "cell_type": "code",
   "execution_count": null,
   "metadata": {
    "collapsed": true
   },
   "outputs": [],
   "source": [
    "class Solution(object):\n",
    "    def singleNumber(self, nums):\n",
    "        \"\"\"\n",
    "        :type nums: List[int]\n",
    "        :rtype: int\n",
    "        \"\"\"\n",
    "        a = b = c = 0\n",
    "        for x in nums:\n",
    "            b |= (a & x)  # b = b | (a & x)\n",
    "            a ^= x  # a^x 为a、x异或 ex. 0^6=6   \n",
    "            c = a & b  \n",
    "            a ^= c\n",
    "            b ^= c\n",
    "        return a"
   ]
  },
  {
   "cell_type": "markdown",
   "metadata": {},
   "source": [
    "通过逐位异或，不占用新空间，复杂度为线性"
   ]
  },
  {
   "cell_type": "markdown",
   "metadata": {},
   "source": [
    "## 784.Longest Common Crefix String\n",
    "Write a function to find the longest common prefix string amongst an array of strings.\n",
    "\n",
    "If there is no common prefix, return an empty string \"\".  \n",
    "Example 1:  \n",
    "\n",
    "```python\n",
    "Input: [\"flower\",\"flow\",\"flight\"]\n",
    "Output: \"fl\"\n",
    "```\n",
    "Example 2:  \n",
    "\n",
    "```python\n",
    "Input: [\"dog\",\"racecar\",\"car\"]\n",
    "Output: \"\"\n",
    "```\n",
    "\n",
    "Explanation: There is no common prefix among the input strings.\n",
    "Note:\n",
    "All given inputs are in lowercase letters a-z."
   ]
  },
  {
   "cell_type": "code",
   "execution_count": null,
   "metadata": {},
   "outputs": [],
   "source": [
    "class Solution(object):\n",
    "    def longestCommonPrefix(self, strs):\n",
    "        \"\"\"\n",
    "        :type strs: List[str]\n",
    "        :rtype: str\n",
    "        \"\"\"\n",
    "        if len(strs) == 0:\n",
    "            return \"\"\n",
    "        res = \"\"\n",
    "        for i in zip(*strs):  #zip(*strs)为解压，zip(strs)为打包\n",
    "            if len(set(i)) == 1:\n",
    "                res += i[0]\n",
    "            else:\n",
    "                return res\n",
    "\n",
    "        return res"
   ]
  },
  {
   "cell_type": "code",
   "execution_count": 1,
   "metadata": {},
   "outputs": [
    {
     "name": "stdout",
     "output_type": "stream",
     "text": [
      "=*=*=*=*=*=*=*=*=*=*矩阵点乘=*=*=*=*=*=*=*=*=*=*\n",
      "[2, 4, 6, 12, 15, 18, 28, 32, 36]\n",
      "=*=*=*=*=*=*=*=*=*=*矩阵相加,相减=*=*=*=*=*=*=*=*=*=*\n",
      "[3, 4, 5, 7, 8, 9, 11, 12, 13]\n"
     ]
    }
   ],
   "source": [
    "## zip()应用\n",
    "# 矩阵相加减、点乘\n",
    "m = [[1, 2, 3],  [4, 5, 6],  [7, 8, 9]]\n",
    "n = [[2, 2, 2],  [3, 3, 3],  [4, 4, 4]]\n",
    "# 矩阵点乘\n",
    "print('=*'*10 + \"矩阵点乘\" + '=*'*10)\n",
    "print([x*y for a, b in zip(m, n) for x, y in zip(a, b)])\n",
    "# 矩阵相加,相减雷同\n",
    "print('=*'*10 + \"矩阵相加,相减\" + '=*'*10)\n",
    "print([x+y for a, b in zip(m, n) for x, y in zip(a, b)])"
   ]
  },
  {
   "cell_type": "code",
   "execution_count": 2,
   "metadata": {},
   "outputs": [
    {
     "name": "stdout",
     "output_type": "stream",
     "text": [
      "=*=*=*=*=*=*=*=*=*=**zip()函数=*=*=*=*=*=*=*=*=*=*\n",
      "*zip(m, n)返回:\n",
      " ([1, 2, 3], [2, 2, 2]) ([4, 5, 6], [3, 3, 3]) ([7, 8, 9], [4, 4, 4])\n",
      "True\n"
     ]
    }
   ],
   "source": [
    "## *zip()函数\n",
    "print('=*'*10 + \"*zip()函数\" + '=*'*10)\n",
    "m = [[1, 2, 3],  [4, 5, 6],  [7, 8, 9]]\n",
    "n = [[2, 2, 2],  [3, 3, 3],  [4, 4, 4]]\n",
    "print(\"*zip(m, n)返回:\\n\", *zip(m, n))\n",
    "m2, n2 = zip(*zip(m, n))\n",
    "# 若相等，返回True；说明*zip为zip的逆过程 如果m、n长度不一致则返回False，只取前部分。\n",
    "print(m == list(m2) and n == list(n2))"
   ]
  },
  {
   "cell_type": "code",
   "execution_count": 3,
   "metadata": {},
   "outputs": [
    {
     "name": "stdout",
     "output_type": "stream",
     "text": [
      "False\n",
      "([1, 2, 3], [4, 5, 6]) ([2, 2, 2], [3, 3, 3])\n"
     ]
    }
   ],
   "source": [
    "m = [[1, 2, 3],  [4, 5, 6],  [7, 8, 9]]\n",
    "n = [[2, 2, 2],  [3, 3, 3]]\n",
    "m2, n2 = zip(*zip(m, n))\n",
    "print(m == list(m2) and n == list(n2))\n",
    "print(m2,n2)"
   ]
  },
  {
   "cell_type": "code",
   "execution_count": null,
   "metadata": {},
   "outputs": [],
   "source": []
  }
 ],
 "metadata": {
  "kernelspec": {
   "display_name": "Python 3",
   "language": "python",
   "name": "python3"
  },
  "language_info": {
   "codemirror_mode": {
    "name": "ipython",
    "version": 3
   },
   "file_extension": ".py",
   "mimetype": "text/x-python",
   "name": "python",
   "nbconvert_exporter": "python",
   "pygments_lexer": "ipython3",
   "version": "3.6.6"
  }
 },
 "nbformat": 4,
 "nbformat_minor": 1
}
